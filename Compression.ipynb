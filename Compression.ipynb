{
  "nbformat": 4,
  "nbformat_minor": 0,
  "metadata": {
    "colab": {
      "provenance": []
    },
    "kernelspec": {
      "name": "python3",
      "display_name": "Python 3"
    },
    "language_info": {
      "name": "python"
    }
  },
  "cells": [
    {
      "cell_type": "code",
      "execution_count": null,
      "metadata": {
        "colab": {
          "base_uri": "https://localhost:8080/"
        },
        "outputId": "13b4965c-6c59-43da-d62b-a3c3ab183802",
        "id": "ChfdO0Rt9exM"
      },
      "outputs": [
        {
          "output_type": "stream",
          "name": "stdout",
          "text": [
            "Mounted at /content/drive\n"
          ]
        }
      ],
      "source": [
        "from google.colab import drive\n",
        "drive.mount('/content/drive')"
      ]
    },
    {
      "cell_type": "code",
      "execution_count": null,
      "metadata": {
        "id": "rDlV6JqCq_j0"
      },
      "outputs": [],
      "source": [
        "def find_downsampled(videoPath):\n",
        "  all = []\n",
        "  for root, dirs, files in os.walk(videoPath):\n",
        "      for file in files:\n",
        "          if file.endswith(\".avi\"):\n",
        "            if 'downsampled' in file:\n",
        "              all.append(os.path.join(root, file))\n",
        "  return all\n",
        "\n",
        "def find_finished_total(videoPath, all):\n",
        "  total = 0\n",
        "  finished = 0\n",
        "  for root, dirs, files in os.walk(videoPath):\n",
        "      for file in files:\n",
        "          if file.endswith(\".avi\"):\n",
        "            if 'downsampled' not in file:\n",
        "              total += 1\n",
        "              file_z = file.replace('.', 'downsampled.')\n",
        "              if os.path.join(root, file_z) in all:\n",
        "                finished += 1\n",
        "  return finished, total\n",
        "\n",
        "def downsample_stuff(videoPath, all, finished, total):\n",
        "  for root, dirs, files in os.walk(videoPath):\n",
        "      for file in files:\n",
        "          if file.endswith(\".avi\"):\n",
        "            old_file = os.path.join(root, file)\n",
        "            already_in = False\n",
        "            if 'downsampled' not in file:\n",
        "              file_z = file.replace('.', 'downsampled.')\n",
        "              if os.path.join(root, file_z) in all:\n",
        "                  already_in = True\n",
        "                  #print(os.path.join(root, file))\n",
        "              if already_in is False:\n",
        "                  old_file = os.path.join(root, file)\n",
        "                  file_l = file.split('.')\n",
        "                  file_l[1] = 'downsampled'\n",
        "                  file_l.append('.avi')\n",
        "                  file = ''.join(file_l)\n",
        "                  new_file =  os.path.join(root, file)\n",
        "                  !ffmpeg -i \"$old_file\" -filter:v scale=-1:256 -c:a copy \"$new_file\"\n",
        "                  finished += 1\n",
        "                  print(total, '/', finished)\n",
        "                  os.remove(old_file)\n",
        "              if already_in is True:\n",
        "                  os.remove(old_file)\n",
        "\n"
      ]
    },
    {
      "cell_type": "code",
      "source": [
        "video_path = \"/content/drive/MyDrive/RGS14\"\n",
        "\n",
        "all = find_downsampled(video_path)\n",
        "finished, total = find_finished_total(video_path, all)\n",
        "downsample_stuff(video_path, all, finished, total)\n",
        "print(total, '/', finished)\n",
        "print(total, '/', len(all))\n"
      ],
      "metadata": {
        "id": "vnWI4Ko6rN3l"
      },
      "execution_count": null,
      "outputs": []
    }
  ]
}